{
 "cells": [
  {
   "cell_type": "code",
   "execution_count": 1,
   "id": "47e5c085",
   "metadata": {},
   "outputs": [],
   "source": [
    "import tensorflow as tf\n",
    "import tensorflow.keras as keras\n",
    "import pandas as pd\n",
    "import numpy as np"
   ]
  },
  {
   "cell_type": "code",
   "execution_count": 2,
   "id": "652a5457",
   "metadata": {},
   "outputs": [],
   "source": [
    "imdb_reviews=pd.read_csv(\"C:/Users/gopes/Machine learning projects/Sentiment Analysis/imdb_reviews.csv\")\n",
    "test_reviews=pd.read_csv(\"C:/Users/gopes/Machine learning projects/Sentiment Analysis/test_reviews.csv\")"
   ]
  },
  {
   "cell_type": "code",
   "execution_count": 3,
   "id": "affedec1",
   "metadata": {},
   "outputs": [
    {
     "data": {
      "text/html": [
       "<div>\n",
       "<style scoped>\n",
       "    .dataframe tbody tr th:only-of-type {\n",
       "        vertical-align: middle;\n",
       "    }\n",
       "\n",
       "    .dataframe tbody tr th {\n",
       "        vertical-align: top;\n",
       "    }\n",
       "\n",
       "    .dataframe thead th {\n",
       "        text-align: right;\n",
       "    }\n",
       "</style>\n",
       "<table border=\"1\" class=\"dataframe\">\n",
       "  <thead>\n",
       "    <tr style=\"text-align: right;\">\n",
       "      <th></th>\n",
       "      <th>Reviews</th>\n",
       "      <th>Sentiment</th>\n",
       "    </tr>\n",
       "  </thead>\n",
       "  <tbody>\n",
       "    <tr>\n",
       "      <th>0</th>\n",
       "      <td>&lt;START this film was just brilliant casting lo...</td>\n",
       "      <td>positive</td>\n",
       "    </tr>\n",
       "    <tr>\n",
       "      <th>1</th>\n",
       "      <td>&lt;START big hair big boobs bad music and a gian...</td>\n",
       "      <td>negative</td>\n",
       "    </tr>\n",
       "    <tr>\n",
       "      <th>2</th>\n",
       "      <td>&lt;START this has to be one of the worst films o...</td>\n",
       "      <td>negative</td>\n",
       "    </tr>\n",
       "    <tr>\n",
       "      <th>3</th>\n",
       "      <td>&lt;START the &lt;UNK&gt; &lt;UNK&gt; at storytelling the tra...</td>\n",
       "      <td>positive</td>\n",
       "    </tr>\n",
       "    <tr>\n",
       "      <th>4</th>\n",
       "      <td>&lt;START worst mistake of my life br br i picked...</td>\n",
       "      <td>negative</td>\n",
       "    </tr>\n",
       "  </tbody>\n",
       "</table>\n",
       "</div>"
      ],
      "text/plain": [
       "                                             Reviews Sentiment\n",
       "0  <START this film was just brilliant casting lo...  positive\n",
       "1  <START big hair big boobs bad music and a gian...  negative\n",
       "2  <START this has to be one of the worst films o...  negative\n",
       "3  <START the <UNK> <UNK> at storytelling the tra...  positive\n",
       "4  <START worst mistake of my life br br i picked...  negative"
      ]
     },
     "execution_count": 3,
     "metadata": {},
     "output_type": "execute_result"
    }
   ],
   "source": [
    "imdb_reviews.head()"
   ]
  },
  {
   "cell_type": "code",
   "execution_count": 4,
   "id": "c9663dfa",
   "metadata": {},
   "outputs": [
    {
     "data": {
      "text/html": [
       "<div>\n",
       "<style scoped>\n",
       "    .dataframe tbody tr th:only-of-type {\n",
       "        vertical-align: middle;\n",
       "    }\n",
       "\n",
       "    .dataframe tbody tr th {\n",
       "        vertical-align: top;\n",
       "    }\n",
       "\n",
       "    .dataframe thead th {\n",
       "        text-align: right;\n",
       "    }\n",
       "</style>\n",
       "<table border=\"1\" class=\"dataframe\">\n",
       "  <thead>\n",
       "    <tr style=\"text-align: right;\">\n",
       "      <th></th>\n",
       "      <th>Reviews</th>\n",
       "      <th>Sentiment</th>\n",
       "    </tr>\n",
       "  </thead>\n",
       "  <tbody>\n",
       "    <tr>\n",
       "      <th>0</th>\n",
       "      <td>&lt;START please give this one a miss br br &lt;UNK&gt;...</td>\n",
       "      <td>negative</td>\n",
       "    </tr>\n",
       "    <tr>\n",
       "      <th>1</th>\n",
       "      <td>&lt;START this film requires a lot of patience be...</td>\n",
       "      <td>positive</td>\n",
       "    </tr>\n",
       "    <tr>\n",
       "      <th>2</th>\n",
       "      <td>&lt;START many animation buffs consider &lt;UNK&gt; &lt;UN...</td>\n",
       "      <td>positive</td>\n",
       "    </tr>\n",
       "    <tr>\n",
       "      <th>3</th>\n",
       "      <td>&lt;START i generally love this type of movie how...</td>\n",
       "      <td>negative</td>\n",
       "    </tr>\n",
       "    <tr>\n",
       "      <th>4</th>\n",
       "      <td>&lt;START like some other people wrote i'm a die ...</td>\n",
       "      <td>positive</td>\n",
       "    </tr>\n",
       "  </tbody>\n",
       "</table>\n",
       "</div>"
      ],
      "text/plain": [
       "                                             Reviews Sentiment\n",
       "0  <START please give this one a miss br br <UNK>...  negative\n",
       "1  <START this film requires a lot of patience be...  positive\n",
       "2  <START many animation buffs consider <UNK> <UN...  positive\n",
       "3  <START i generally love this type of movie how...  negative\n",
       "4  <START like some other people wrote i'm a die ...  positive"
      ]
     },
     "execution_count": 4,
     "metadata": {},
     "output_type": "execute_result"
    }
   ],
   "source": [
    "test_reviews.head()"
   ]
  },
  {
   "cell_type": "code",
   "execution_count": 5,
   "id": "cad504c8",
   "metadata": {},
   "outputs": [],
   "source": [
    "word_index = pd.read_csv(\"C:/Users/gopes/Machine learning projects/Sentiment Analysis/word_indexes.csv\")"
   ]
  },
  {
   "cell_type": "code",
   "execution_count": 6,
   "id": "aa2d3287",
   "metadata": {},
   "outputs": [
    {
     "data": {
      "text/html": [
       "<div>\n",
       "<style scoped>\n",
       "    .dataframe tbody tr th:only-of-type {\n",
       "        vertical-align: middle;\n",
       "    }\n",
       "\n",
       "    .dataframe tbody tr th {\n",
       "        vertical-align: top;\n",
       "    }\n",
       "\n",
       "    .dataframe thead th {\n",
       "        text-align: right;\n",
       "    }\n",
       "</style>\n",
       "<table border=\"1\" class=\"dataframe\">\n",
       "  <thead>\n",
       "    <tr style=\"text-align: right;\">\n",
       "      <th></th>\n",
       "      <th>Words</th>\n",
       "      <th>Indexes</th>\n",
       "    </tr>\n",
       "  </thead>\n",
       "  <tbody>\n",
       "    <tr>\n",
       "      <th>0</th>\n",
       "      <td>tsukino</td>\n",
       "      <td>52009</td>\n",
       "    </tr>\n",
       "    <tr>\n",
       "      <th>1</th>\n",
       "      <td>nunnery</td>\n",
       "      <td>52010</td>\n",
       "    </tr>\n",
       "    <tr>\n",
       "      <th>2</th>\n",
       "      <td>sonja</td>\n",
       "      <td>16819</td>\n",
       "    </tr>\n",
       "    <tr>\n",
       "      <th>3</th>\n",
       "      <td>vani</td>\n",
       "      <td>63954</td>\n",
       "    </tr>\n",
       "    <tr>\n",
       "      <th>4</th>\n",
       "      <td>woods</td>\n",
       "      <td>1411</td>\n",
       "    </tr>\n",
       "    <tr>\n",
       "      <th>5</th>\n",
       "      <td>spiders</td>\n",
       "      <td>16118</td>\n",
       "    </tr>\n",
       "    <tr>\n",
       "      <th>6</th>\n",
       "      <td>hanging</td>\n",
       "      <td>2348</td>\n",
       "    </tr>\n",
       "    <tr>\n",
       "      <th>7</th>\n",
       "      <td>woody</td>\n",
       "      <td>2292</td>\n",
       "    </tr>\n",
       "    <tr>\n",
       "      <th>8</th>\n",
       "      <td>trawling</td>\n",
       "      <td>52011</td>\n",
       "    </tr>\n",
       "    <tr>\n",
       "      <th>9</th>\n",
       "      <td>hold's</td>\n",
       "      <td>52012</td>\n",
       "    </tr>\n",
       "  </tbody>\n",
       "</table>\n",
       "</div>"
      ],
      "text/plain": [
       "      Words  Indexes\n",
       "0   tsukino    52009\n",
       "1   nunnery    52010\n",
       "2     sonja    16819\n",
       "3      vani    63954\n",
       "4     woods     1411\n",
       "5   spiders    16118\n",
       "6   hanging     2348\n",
       "7     woody     2292\n",
       "8  trawling    52011\n",
       "9    hold's    52012"
      ]
     },
     "execution_count": 6,
     "metadata": {},
     "output_type": "execute_result"
    }
   ],
   "source": [
    "word_index.head(n=10)"
   ]
  },
  {
   "cell_type": "code",
   "execution_count": 7,
   "id": "11ea77c1",
   "metadata": {},
   "outputs": [],
   "source": [
    "word_index=dict(zip(word_index.Words,word_index.Indexes))"
   ]
  },
  {
   "cell_type": "code",
   "execution_count": 13,
   "id": "6473d46d",
   "metadata": {},
   "outputs": [],
   "source": [
    "word_index[\"<PAD>\"]=0\n",
    "word_index[\"<START\"]=1\n",
    "word_index[\"<UNK>\"]=2\n",
    "word_index[\"<UNUSED>\"]=3"
   ]
  },
  {
   "cell_type": "code",
   "execution_count": 9,
   "id": "62ec11f4",
   "metadata": {},
   "outputs": [],
   "source": [
    "def review_encoder(text):\n",
    "    arr=[word_index[word] for word in text]\n",
    "    return arr"
   ]
  },
  {
   "cell_type": "code",
   "execution_count": 10,
   "id": "8969912b",
   "metadata": {},
   "outputs": [],
   "source": [
    "train_data,train_labels=imdb_reviews['Reviews'],imdb_reviews['Sentiment']\n",
    "test_data,test_labels=test_reviews['Reviews'],test_reviews['Sentiment']"
   ]
  },
  {
   "cell_type": "code",
   "execution_count": 11,
   "id": "27f6f5c5",
   "metadata": {},
   "outputs": [],
   "source": [
    "train_data=train_data.apply(lambda review:review.split())\n",
    "test_data=test_data.apply(lambda review:review.split())"
   ]
  },
  {
   "cell_type": "code",
   "execution_count": 14,
   "id": "feb96bf4",
   "metadata": {},
   "outputs": [],
   "source": [
    "train_data=train_data.apply(review_encoder)\n",
    "test_data=test_data.apply(review_encoder)"
   ]
  },
  {
   "cell_type": "code",
   "execution_count": 15,
   "id": "9f44a480",
   "metadata": {},
   "outputs": [],
   "source": [
    "def e_sentiments(sentiment):\n",
    "    if sentiment == 'positive':\n",
    "        return 1 \n",
    "    else:\n",
    "        return 0\n",
    "    \n",
    "train_labels=train_labels.apply(e_sentiments)\n",
    "test_labels=test_labels.apply(e_sentiments)"
   ]
  },
  {
   "cell_type": "code",
   "execution_count": 16,
   "id": "c56f3adf",
   "metadata": {},
   "outputs": [],
   "source": [
    "train_data=keras.preprocessing.sequence.pad_sequences(train_data,value=word_index[\"<PAD>\"],padding='post',maxlen=500)\n",
    "test_data=keras.preprocessing.sequence.pad_sequences(test_data,value=word_index[\"<PAD>\"],padding='post',maxlen=500)"
   ]
  },
  {
   "cell_type": "code",
   "execution_count": 17,
   "id": "bfa62398",
   "metadata": {},
   "outputs": [],
   "source": [
    "model=keras.Sequential([keras.layers.Embedding(10000,16,input_length=500),\n",
    "                      keras.layers.GlobalAveragePooling1D(),\n",
    "                      keras.layers.Dense(16,activation='relu'),\n",
    "                      keras.layers.Dense(1,activation='sigmoid')])"
   ]
  },
  {
   "cell_type": "code",
   "execution_count": 18,
   "id": "8202d6cf",
   "metadata": {},
   "outputs": [],
   "source": [
    "model.compile(optimizer='adam',loss='binary_crossentropy',metrics=['accuracy'])"
   ]
  },
  {
   "cell_type": "code",
   "execution_count": 38,
   "id": "2e21a11c",
   "metadata": {},
   "outputs": [
    {
     "name": "stdout",
     "output_type": "stream",
     "text": [
      "Epoch 1/40\n",
      "49/49 [==============================] - 2s 31ms/step - loss: 0.0308 - accuracy: 0.9941 - val_loss: 0.6375 - val_accuracy: 0.8581\n",
      "Epoch 2/40\n",
      "49/49 [==============================] - 1s 30ms/step - loss: 0.0302 - accuracy: 0.9944 - val_loss: 0.6407 - val_accuracy: 0.8580\n",
      "Epoch 3/40\n",
      "49/49 [==============================] - 1s 29ms/step - loss: 0.0297 - accuracy: 0.9946 - val_loss: 0.6470 - val_accuracy: 0.8584\n",
      "Epoch 4/40\n",
      "49/49 [==============================] - 1s 29ms/step - loss: 0.0294 - accuracy: 0.9945 - val_loss: 0.6440 - val_accuracy: 0.8571\n",
      "Epoch 5/40\n",
      "49/49 [==============================] - 1s 30ms/step - loss: 0.0293 - accuracy: 0.9944 - val_loss: 0.6499 - val_accuracy: 0.8574\n",
      "Epoch 6/40\n",
      "49/49 [==============================] - 1s 30ms/step - loss: 0.0288 - accuracy: 0.9946 - val_loss: 0.6507 - val_accuracy: 0.8563\n",
      "Epoch 7/40\n",
      "49/49 [==============================] - 1s 30ms/step - loss: 0.0282 - accuracy: 0.9946 - val_loss: 0.6602 - val_accuracy: 0.8574\n",
      "Epoch 8/40\n",
      "49/49 [==============================] - 2s 31ms/step - loss: 0.0278 - accuracy: 0.9949 - val_loss: 0.6552 - val_accuracy: 0.8552\n",
      "Epoch 9/40\n",
      "49/49 [==============================] - 2s 31ms/step - loss: 0.0274 - accuracy: 0.9950 - val_loss: 0.6607 - val_accuracy: 0.8554\n",
      "Epoch 10/40\n",
      "49/49 [==============================] - 2s 31ms/step - loss: 0.0273 - accuracy: 0.9952 - val_loss: 0.6679 - val_accuracy: 0.8564\n",
      "Epoch 11/40\n",
      "49/49 [==============================] - 1s 29ms/step - loss: 0.0271 - accuracy: 0.9948 - val_loss: 0.6706 - val_accuracy: 0.8559\n",
      "Epoch 12/40\n",
      "49/49 [==============================] - 1s 29ms/step - loss: 0.0263 - accuracy: 0.9952 - val_loss: 0.6729 - val_accuracy: 0.8549\n",
      "Epoch 13/40\n",
      "49/49 [==============================] - 1s 29ms/step - loss: 0.0259 - accuracy: 0.9955 - val_loss: 0.6882 - val_accuracy: 0.8559\n",
      "Epoch 14/40\n",
      "49/49 [==============================] - 1s 29ms/step - loss: 0.0256 - accuracy: 0.9954 - val_loss: 0.6889 - val_accuracy: 0.8558\n",
      "Epoch 15/40\n",
      "49/49 [==============================] - 1s 30ms/step - loss: 0.0250 - accuracy: 0.9957 - val_loss: 0.6940 - val_accuracy: 0.8556\n",
      "Epoch 16/40\n",
      "49/49 [==============================] - 1s 30ms/step - loss: 0.0247 - accuracy: 0.9958 - val_loss: 0.6931 - val_accuracy: 0.8558\n",
      "Epoch 17/40\n",
      "49/49 [==============================] - 1s 30ms/step - loss: 0.0246 - accuracy: 0.9957 - val_loss: 0.6911 - val_accuracy: 0.8535\n",
      "Epoch 18/40\n",
      "49/49 [==============================] - 1s 29ms/step - loss: 0.0240 - accuracy: 0.9960 - val_loss: 0.7023 - val_accuracy: 0.8552\n",
      "Epoch 19/40\n",
      "49/49 [==============================] - 1s 30ms/step - loss: 0.0236 - accuracy: 0.9960 - val_loss: 0.7026 - val_accuracy: 0.8544\n",
      "Epoch 20/40\n",
      "49/49 [==============================] - 1s 29ms/step - loss: 0.0231 - accuracy: 0.9962 - val_loss: 0.7134 - val_accuracy: 0.8552\n",
      "Epoch 21/40\n",
      "49/49 [==============================] - 1s 29ms/step - loss: 0.0229 - accuracy: 0.9963 - val_loss: 0.7291 - val_accuracy: 0.8550\n",
      "Epoch 22/40\n",
      "49/49 [==============================] - 1s 29ms/step - loss: 0.0223 - accuracy: 0.9965 - val_loss: 0.7245 - val_accuracy: 0.8547\n",
      "Epoch 23/40\n",
      "49/49 [==============================] - 1s 30ms/step - loss: 0.0218 - accuracy: 0.9965 - val_loss: 0.7234 - val_accuracy: 0.8541\n",
      "Epoch 24/40\n",
      "49/49 [==============================] - 1s 29ms/step - loss: 0.0215 - accuracy: 0.9966 - val_loss: 0.7297 - val_accuracy: 0.8543\n",
      "Epoch 25/40\n",
      "49/49 [==============================] - 1s 30ms/step - loss: 0.0210 - accuracy: 0.9968 - val_loss: 0.7409 - val_accuracy: 0.8545\n",
      "Epoch 26/40\n",
      "49/49 [==============================] - 1s 30ms/step - loss: 0.0207 - accuracy: 0.9966 - val_loss: 0.7397 - val_accuracy: 0.8540\n",
      "Epoch 27/40\n",
      "49/49 [==============================] - 1s 30ms/step - loss: 0.0205 - accuracy: 0.9968 - val_loss: 0.7462 - val_accuracy: 0.8536\n",
      "Epoch 28/40\n",
      "49/49 [==============================] - 1s 30ms/step - loss: 0.0200 - accuracy: 0.9971 - val_loss: 0.7493 - val_accuracy: 0.8534\n",
      "Epoch 29/40\n",
      "49/49 [==============================] - 1s 30ms/step - loss: 0.0197 - accuracy: 0.9972 - val_loss: 0.7611 - val_accuracy: 0.8545\n",
      "Epoch 30/40\n",
      "49/49 [==============================] - 1s 30ms/step - loss: 0.0194 - accuracy: 0.9970 - val_loss: 0.7614 - val_accuracy: 0.8534\n",
      "Epoch 31/40\n",
      "49/49 [==============================] - 1s 30ms/step - loss: 0.0191 - accuracy: 0.9973 - val_loss: 0.7762 - val_accuracy: 0.8537\n",
      "Epoch 32/40\n",
      "49/49 [==============================] - 2s 31ms/step - loss: 0.0188 - accuracy: 0.9972 - val_loss: 0.7693 - val_accuracy: 0.8531\n",
      "Epoch 33/40\n",
      "49/49 [==============================] - 1s 30ms/step - loss: 0.0184 - accuracy: 0.9974 - val_loss: 0.7858 - val_accuracy: 0.8533\n",
      "Epoch 34/40\n",
      "49/49 [==============================] - 1s 30ms/step - loss: 0.0183 - accuracy: 0.9973 - val_loss: 0.7820 - val_accuracy: 0.8532\n",
      "Epoch 35/40\n",
      "49/49 [==============================] - 1s 30ms/step - loss: 0.0178 - accuracy: 0.9976 - val_loss: 0.7823 - val_accuracy: 0.8528\n",
      "Epoch 36/40\n",
      "49/49 [==============================] - 2s 31ms/step - loss: 0.0175 - accuracy: 0.9976 - val_loss: 0.7927 - val_accuracy: 0.8530\n",
      "Epoch 37/40\n",
      "49/49 [==============================] - 2s 32ms/step - loss: 0.0172 - accuracy: 0.9977 - val_loss: 0.8079 - val_accuracy: 0.8526\n",
      "Epoch 38/40\n",
      "49/49 [==============================] - 2s 31ms/step - loss: 0.0169 - accuracy: 0.9978 - val_loss: 0.7959 - val_accuracy: 0.8509\n",
      "Epoch 39/40\n",
      "49/49 [==============================] - 2s 33ms/step - loss: 0.0167 - accuracy: 0.9976 - val_loss: 0.8090 - val_accuracy: 0.8522\n",
      "Epoch 40/40\n",
      "49/49 [==============================] - 2s 31ms/step - loss: 0.0161 - accuracy: 0.9978 - val_loss: 0.8059 - val_accuracy: 0.8506\n"
     ]
    }
   ],
   "source": [
    "history = model.fit(train_data,train_labels,epochs=40,batch_size=512,validation_data=(test_data,test_labels))"
   ]
  },
  {
   "cell_type": "code",
   "execution_count": 20,
   "id": "04d1db81",
   "metadata": {},
   "outputs": [
    {
     "name": "stdout",
     "output_type": "stream",
     "text": [
      "782/782 [==============================] - 1s 868us/step - loss: 0.3205 - accuracy: 0.8812\n"
     ]
    }
   ],
   "source": [
    "loss,accuracy=model.evaluate(test_data,test_labels)"
   ]
  },
  {
   "cell_type": "code",
   "execution_count": 21,
   "id": "6c622ab6",
   "metadata": {},
   "outputs": [
    {
     "data": {
      "text/html": [
       "<div>\n",
       "<style scoped>\n",
       "    .dataframe tbody tr th:only-of-type {\n",
       "        vertical-align: middle;\n",
       "    }\n",
       "\n",
       "    .dataframe tbody tr th {\n",
       "        vertical-align: top;\n",
       "    }\n",
       "\n",
       "    .dataframe thead th {\n",
       "        text-align: right;\n",
       "    }\n",
       "</style>\n",
       "<table border=\"1\" class=\"dataframe\">\n",
       "  <thead>\n",
       "    <tr style=\"text-align: right;\">\n",
       "      <th></th>\n",
       "      <th>Reviews</th>\n",
       "      <th>Sentiment</th>\n",
       "    </tr>\n",
       "  </thead>\n",
       "  <tbody>\n",
       "    <tr>\n",
       "      <th>0</th>\n",
       "      <td>&lt;START please give this one a miss br br &lt;UNK&gt;...</td>\n",
       "      <td>negative</td>\n",
       "    </tr>\n",
       "    <tr>\n",
       "      <th>1</th>\n",
       "      <td>&lt;START this film requires a lot of patience be...</td>\n",
       "      <td>positive</td>\n",
       "    </tr>\n",
       "    <tr>\n",
       "      <th>2</th>\n",
       "      <td>&lt;START many animation buffs consider &lt;UNK&gt; &lt;UN...</td>\n",
       "      <td>positive</td>\n",
       "    </tr>\n",
       "    <tr>\n",
       "      <th>3</th>\n",
       "      <td>&lt;START i generally love this type of movie how...</td>\n",
       "      <td>negative</td>\n",
       "    </tr>\n",
       "    <tr>\n",
       "      <th>4</th>\n",
       "      <td>&lt;START like some other people wrote i'm a die ...</td>\n",
       "      <td>positive</td>\n",
       "    </tr>\n",
       "  </tbody>\n",
       "</table>\n",
       "</div>"
      ],
      "text/plain": [
       "                                             Reviews Sentiment\n",
       "0  <START please give this one a miss br br <UNK>...  negative\n",
       "1  <START this film requires a lot of patience be...  positive\n",
       "2  <START many animation buffs consider <UNK> <UN...  positive\n",
       "3  <START i generally love this type of movie how...  negative\n",
       "4  <START like some other people wrote i'm a die ...  positive"
      ]
     },
     "execution_count": 21,
     "metadata": {},
     "output_type": "execute_result"
    }
   ],
   "source": [
    "test_reviews.head()"
   ]
  },
  {
   "cell_type": "code",
   "execution_count": 22,
   "id": "47a95253",
   "metadata": {},
   "outputs": [],
   "source": [
    "index=np.random.randint(1,1000)"
   ]
  },
  {
   "cell_type": "code",
   "execution_count": 23,
   "id": "c8e61ffb",
   "metadata": {},
   "outputs": [
    {
     "name": "stdout",
     "output_type": "stream",
     "text": [
      "Reviews      <START i actually found out about rising via t...\n",
      "Sentiment                                             positive\n",
      "Name: 155, dtype: object\n"
     ]
    }
   ],
   "source": [
    "review_case=test_reviews.loc[index]\n",
    "print(review_case)"
   ]
  },
  {
   "cell_type": "code",
   "execution_count": 24,
   "id": "1aba746c",
   "metadata": {},
   "outputs": [
    {
     "name": "stdout",
     "output_type": "stream",
     "text": [
      "The movie was good\n"
     ]
    }
   ],
   "source": [
    "review_case=test_data[index]\n",
    "review_case=np.array([review_case])\n",
    "if(model.predict(review_case) > 0.5).astype(\"int32\"):\n",
    "    print(\"The movie was good\")\n",
    "else:\n",
    "    print(\"The movie was ridiculously bad\")"
   ]
  },
  {
   "cell_type": "code",
   "execution_count": 25,
   "id": "6eaa476c",
   "metadata": {},
   "outputs": [],
   "source": []
  }
 ],
 "metadata": {
  "kernelspec": {
   "display_name": "Python 3",
   "language": "python",
   "name": "python3"
  },
  "language_info": {
   "codemirror_mode": {
    "name": "ipython",
    "version": 3
   },
   "file_extension": ".py",
   "mimetype": "text/x-python",
   "name": "python",
   "nbconvert_exporter": "python",
   "pygments_lexer": "ipython3",
   "version": "3.8.8"
  }
 },
 "nbformat": 4,
 "nbformat_minor": 5
}
